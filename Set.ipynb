{
 "cells": [
  {
   "cell_type": "markdown",
   "id": "b6b94681-156a-4614-99f2-089ef2aab9ad",
   "metadata": {},
   "source": [
    "# Set (conjunto)\n",
    "\n",
    "Conjuntos (set) são uma estrutura de dados que armazenam uma coleção de elementos únicos, sem repetição e sem ordem definida.\n",
    "\n",
    "Suas principais operações são:\n",
    "\n",
    "União (A ⋃ B) - é o Conjunto que contém todos os elementos nos conjuntos A e B.\n",
    "\n",
    "Interseção (A ∩ B) - é o Conjunto que contém todos os elementos que estão em A e B.\n",
    "\n",
    "Diferença (A - B) - é o Conjunto de elementos que estão em A, mas não estão em B.\n",
    "\n",
    "Infelizmente esta estrutura não existe na linguagem de programação Go.\n",
    "\n",
    "Que tal escrevermos nossa própria versão desta estrutura de dados?\n",
    "\n",
    "Achou o desafio interessante? Que tal escrevermos testes e utilizar Generics para tornar ainda mais poderosa nossa implementação?\n",
    "\n",
    "Duas dicas: Mapas são seu amigo e struct{} ocupa menos espaço que um valor booleano."
   ]
  },
  {
   "cell_type": "code",
   "execution_count": null,
   "id": "97e182aa-41ef-4408-8957-739f4b8df70d",
   "metadata": {},
   "outputs": [],
   "source": []
  }
 ],
 "metadata": {
  "kernelspec": {
   "display_name": "Go (gonb)",
   "language": "go",
   "name": "gonb"
  },
  "language_info": {
   "codemirror_mode": "",
   "file_extension": ".go",
   "mimetype": "",
   "name": "go",
   "nbconvert_exporter": "",
   "pygments_lexer": "",
   "version": "go1.23.0"
  }
 },
 "nbformat": 4,
 "nbformat_minor": 5
}
