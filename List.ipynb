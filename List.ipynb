{
 "cells": [
  {
   "cell_type": "markdown",
   "id": "3b1c6db3-8f54-4302-b108-0c8775f08ede",
   "metadata": {},
   "source": [
    "# List\n",
    "\n",
    "Para ilustrar como o conhecimento e utilização de uma estrtura de dados no momento correto pode contribuir com a eficiência do seu código vamos ao seguinte código.\n",
    "Criaremos uma coleção de elementos (strings no exemplo) com dois elementos, em seguida faremos múltiplas inserções de novos elementos no início da coleção.\n",
    "Imagine algo assim: [\"passaro\", \"cachorro\"] e vamos adicionar \"1\", em seguida \"2\".\n",
    "Como a inserção é feita no início da coleção, teriamos ao final [\"2\", \"1\", \"passaro\", \"cachorro\"]\n",
    "\n",
    "Abaixo temos a demonstração do que foi explicado, utilizando slices e listas.\n",
    "\n",
    "Lista é uma estrutura de dados que armazena uma sequência de elementos, onde cada elemento é composto por um valor e uma referência para o próximo elemento da lista. Diferentemente de um array, a lista não tem um tamanho fixo, podendo ser aumentada ou diminuída durante a execução do programa. As listas podem ser implementadas de várias maneiras, sendo duas das mais comuns a lista encadeada (linked list) e a lista duplamente encadeada (doubly linked list). As listas são amplamente utilizadas em algoritmos de processamento de dados, como ordenação e pesquisa, devido à sua flexibilidade e eficiência.\n",
    "\n",
    "Go possui uma implementação de lista duplamente encadeada em um pacote chamado container na própria linguagem.\n",
    "Para uma melhor vizualização desta estrtura de dados, acesse: https://visualgo.net/en/list\n",
    "\n",
    "A lista (list) é mais eficiente que o slice ([]T) em cenários em que há a necessidade frequente de inserções ou remoções de elementos na parte inicial (ou em qualquer posição intermediária) da sequência de dados.\n",
    "Isso ocorre porque as listas são implementadas como uma estrutura encadeada, em que cada elemento é armazenado em um nó que contém um ponteiro para o próximo elemento (e, em caso de lista duplamente encadeada, um ponteiro para o elemento anterior).\n",
    "Dessa forma, a inserção ou remoção de elementos na parte inicial da lista requer apenas a atualização dos ponteiros dos nós adjacentes, o que é uma operação muito rápida.\n",
    "Já o slice é implementado como um array com tamanho fixo, e, portanto, inserir ou remover elementos no início requer a realocação de todos os elementos do array para frente ou para trás, o que pode ser uma operação muito custosa, especialmente para grandes conjuntos de dados.\n",
    "No código abaixo , a lista é mais eficiente porque há a necessidade de inserir 20 elementos na parte inicial da sequência em cada iteração, o que é uma operação muito mais rápida com uma lista do que com um slice.\n",
    "\n",
    "Ainda no pacote container, podemos encontrar implementação de mais duas estruturas de dados, Heap e Ring.\n",
    "Recomendo a leitura da documentação sobre as estruturas.\n",
    "\n",
    "https://pkg.go.dev/container/heap\n",
    "\n",
    "https://pkg.go.dev/container/ring"
   ]
  },
  {
   "cell_type": "code",
   "execution_count": 1,
   "id": "bf16c26b-9014-40e9-aaa2-a999e8e1a9b1",
   "metadata": {},
   "outputs": [],
   "source": [
    "// Para facilitar a vizualização dos elementos da lista, esta função foi criada\n",
    "func imprimeListaComoSlide(l *list.List) {\n",
    "\t// Cria um slice vazio\n",
    "\tslice := make([]interface{}, l.Len())\n",
    "\n",
    "\t// Para cada elemento da lista, adicione ao slice\n",
    "\ti := 0\n",
    "\tfor e := l.Front(); e != nil; e = e.Next() {\n",
    "\t\tslice[i] = e.Value\n",
    "\t\ti++\n",
    "\t}\n",
    "\t// Imprime o slice final\n",
    "\tfmt.Println(slice)\n",
    "}"
   ]
  },
  {
   "cell_type": "code",
   "execution_count": 2,
   "id": "e27d93a1-f518-47e0-9c48-f2ed28790819",
   "metadata": {},
   "outputs": [
    {
     "name": "stderr",
     "output_type": "stream",
     "text": [
      "2024/09/10 22:13:18 List took 9.233085ms\n"
     ]
    }
   ],
   "source": [
    "%%\n",
    "start := time.Now()\n",
    "\n",
    "\n",
    "valores := list.New()\n",
    "for i := range 100_000 {\n",
    "  valores.PushFront(i)\n",
    "}\n",
    "elapsed := time.Since(start)\n",
    "log.Printf(\"List took %s\", elapsed)"
   ]
  },
  {
   "cell_type": "code",
   "execution_count": 3,
   "id": "fa96bc67-74db-417b-b880-5b0e3c015e1a",
   "metadata": {},
   "outputs": [
    {
     "name": "stderr",
     "output_type": "stream",
     "text": [
      "2024/09/10 22:13:22 slices package took 4.343375352s\n"
     ]
    }
   ],
   "source": [
    "%%\n",
    "start := time.Now()\n",
    "\n",
    "\n",
    "valores := []int{}\n",
    "for i := range 100_000 {\n",
    "  temp := []int{i}\n",
    "  valores = append(temp, valores...)\n",
    "}\n",
    "elapsed := time.Since(start)\n",
    "log.Printf(\"slices package took %s\", elapsed)"
   ]
  },
  {
   "cell_type": "code",
   "execution_count": 4,
   "id": "62a4d1fb-4794-4f7d-a135-090527669552",
   "metadata": {},
   "outputs": [
    {
     "name": "stderr",
     "output_type": "stream",
     "text": [
      "2024/09/10 22:13:23 append took 466.94194ms\n"
     ]
    }
   ],
   "source": [
    "%%\n",
    "start := time.Now()\n",
    "\n",
    "\n",
    "valores := []int{}\n",
    "for i := range 100_000 {\n",
    "  valores = slices.Insert(valores, 0, i)\n",
    "}\n",
    "elapsed := time.Since(start)\n",
    "log.Printf(\"append took %s\", elapsed)"
   ]
  },
  {
   "cell_type": "code",
   "execution_count": null,
   "id": "0f6edb24-b9e3-4ac1-add1-f06ed7d979b5",
   "metadata": {},
   "outputs": [],
   "source": []
  },
  {
   "cell_type": "code",
   "execution_count": null,
   "id": "5adeb5d1-2c79-4d23-955a-3018209227b9",
   "metadata": {},
   "outputs": [],
   "source": []
  }
 ],
 "metadata": {
  "kernelspec": {
   "display_name": "Go (gonb)",
   "language": "go",
   "name": "gonb"
  },
  "language_info": {
   "codemirror_mode": "",
   "file_extension": ".go",
   "mimetype": "",
   "name": "go",
   "nbconvert_exporter": "",
   "pygments_lexer": "",
   "version": "go1.23.0"
  }
 },
 "nbformat": 4,
 "nbformat_minor": 5
}
