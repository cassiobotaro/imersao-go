{
 "cells": [
  {
   "cell_type": "markdown",
   "id": "5862ee73-b6eb-4b66-87c4-9254f1cd0b6d",
   "metadata": {},
   "source": [
    "# Array\n",
    "\n",
    "Arrays são uma sequência de tamanho fixo de zero ou mais  elementos de um tipo específico."
   ]
  },
  {
   "cell_type": "markdown",
   "id": "6bb59b7c-b0a9-4e62-b294-aeb114f8662e",
   "metadata": {},
   "source": [
    "Seu tamanho é definido durante a criação."
   ]
  },
  {
   "cell_type": "code",
   "execution_count": 1,
   "id": "07765be6-5cc6-4a07-9c9d-856912120da0",
   "metadata": {},
   "outputs": [],
   "source": [
    "var arr [5]int"
   ]
  },
  {
   "cell_type": "markdown",
   "id": "3029966d-6adc-4d7f-b28b-cd6b39bcb834",
   "metadata": {},
   "source": [
    "No exemplo acima, podemos ver a declaração de um array de inteiros com o tamanho 5. Como o array não foi inicializado, o valor-zero do tipo é colocado. Resultando assim em um array com zeros [0, 0, 0, 0, 0]."
   ]
  },
  {
   "cell_type": "code",
   "execution_count": 2,
   "id": "4e376a76-68ba-4abc-8f71-d7fe35731aab",
   "metadata": {},
   "outputs": [
    {
     "name": "stdout",
     "output_type": "stream",
     "text": [
      "Array com valores-zero:  [0 0 0 0 0]\n",
      "Tamanho do array:  5\n"
     ]
    }
   ],
   "source": [
    "%%\n",
    "fmt.Println(\"Array com valores-zero: \", arr)\n",
    "fmt.Println(\"Tamanho do array: \", len(arr))"
   ]
  },
  {
   "cell_type": "markdown",
   "id": "cac7bf1a-4478-4884-8e6b-c89b2cabc797",
   "metadata": {},
   "source": [
    "Outra maneira de criar um array é inicializando-o, declarando de forma literal seus valores.\n",
    "\n",
    "O valor entre parênteses diz o tamanho do array e o tipo que aparece após os parênteses são os valores esperados a serem armazenados no array.\n",
    "\n",
    "Podemos utilizar a função embutida `len` para ver o tamanho de um array."
   ]
  },
  {
   "cell_type": "code",
   "execution_count": 3,
   "id": "75eb4a1c-3b77-4636-97e4-dc7b294f0d46",
   "metadata": {},
   "outputs": [
    {
     "name": "stdout",
     "output_type": "stream",
     "text": [
      "Array declarado de forma literal:  [a e i o u]\n",
      "Tamanho do array:  5\n"
     ]
    }
   ],
   "source": [
    "%%\n",
    "arrayDeclarado := [5]string{\"a\", \"e\", \"i\", \"o\", \"u\"}\n",
    "fmt.Println(\"Array declarado de forma literal: \", arrayDeclarado)\n",
    "fmt.Println(\"Tamanho do array: \", len(arrayDeclarado))"
   ]
  },
  {
   "cell_type": "markdown",
   "id": "a3bc9dcd-1880-407b-8f49-458d6ba90d97",
   "metadata": {},
   "source": [
    "Se utilizarmos a forma literal de declaração, mas os valores declarados não forem igual ao tamanho do array, valores zero são adicionados.\n",
    "No exemplo abaixo, o array possui tamanho 10, mas somente 3 valores foram declarados de forma literal.\n",
    "Sendo assim, valores zero (`\"\"`já que o tipo é string) foram adicionados."
   ]
  },
  {
   "cell_type": "code",
   "execution_count": 4,
   "id": "19561102-4a6a-417a-bf01-6e789c79e034",
   "metadata": {},
   "outputs": [
    {
     "name": "stdout",
     "output_type": "stream",
     "text": [
      "Array delcarado de forma literal mas sem preencher todos os elementos:  [g h i       ]\n",
      "Tamanho do array:  10\n",
      "Capacidade do array:  10\n"
     ]
    }
   ],
   "source": [
    "%%\n",
    "outroArray := [10]string{\"g\", \"h\", \"i\"}\n",
    "fmt.Println(\"Array delcarado de forma literal mas sem preencher todos os elementos: \", outroArray)\n",
    "fmt.Println(\"Tamanho do array: \", len(outroArray))\n",
    "fmt.Println(\"Capacidade do array: \", cap(outroArray))"
   ]
  },
  {
   "cell_type": "markdown",
   "id": "2256d972-c00e-4e25-9f3a-39f623a8ec94",
   "metadata": {},
   "source": [
    "Se reticências estiverem no lugar no tamanho do array, seu tamanho é o número de elementos declarados."
   ]
  },
  {
   "cell_type": "code",
   "execution_count": 5,
   "id": "edb04ade-fa5d-40a5-8f8f-f4ec1fa75b5f",
   "metadata": {},
   "outputs": [
    {
     "name": "stdout",
     "output_type": "stream",
     "text": [
      "Array definido com reticências:  [7 8 9]\n",
      "Tamanho do array definido com reticências:  3\n",
      "Capacidade do array:  3\n"
     ]
    }
   ],
   "source": [
    "%%\n",
    "arrayRet := [...]int{7, 8, 9}\n",
    "fmt.Println(\"Array definido com reticências: \", arrayRet)\n",
    "fmt.Println(\"Tamanho do array definido com reticências: \", len(arrayRet))\n",
    "fmt.Println(\"Capacidade do array: \", cap(arrayRet))"
   ]
  },
  {
   "cell_type": "markdown",
   "id": "2b3e4f43-0d5d-4455-b5f7-eaa2b2f26e82",
   "metadata": {},
   "source": [
    "Na forma literal, os elementos podem ser definidos de forma não ordenada e até serem omitidos.\n",
    "Neste exemplo o valor 1 é colocado nas posições 1,3 e 5."
   ]
  },
  {
   "cell_type": "code",
   "execution_count": 6,
   "id": "a6fb0772-64e1-4253-9944-fa87a344315e",
   "metadata": {},
   "outputs": [
    {
     "name": "stdout",
     "output_type": "stream",
     "text": [
      "Array com valores esparsos:  [0 1 0 1 0 1 0 0 0 0]\n",
      "Tamanho do array:  10\n",
      "Capacidade do array:  10\n"
     ]
    }
   ],
   "source": [
    "%%\n",
    "esparsos := [10]int{1: 1, 5: 1, 3: 1}\n",
    "fmt.Println(\"Array com valores esparsos: \", esparsos)\n",
    "fmt.Println(\"Tamanho do array: \", len(esparsos))\n",
    "fmt.Println(\"Capacidade do array: \", cap(esparsos))"
   ]
  },
  {
   "cell_type": "markdown",
   "id": "403f5059-16fe-4c56-8f58-bbc024ada52c",
   "metadata": {},
   "source": [
    "Aqui um exemplo utilizando reticências, e definindo o índice 99 com o valor 1.\n",
    "Todos os outros índices são preenchidos com valores-zero do tipo.\n",
    "Teremos um array de 100 elementos, mesmo sem declará-los de forma explícita."
   ]
  },
  {
   "cell_type": "code",
   "execution_count": 7,
   "id": "4ac6619d-e761-4122-bf3f-d66803c8ce5b",
   "metadata": {},
   "outputs": [
    {
     "name": "stdout",
     "output_type": "stream",
     "text": [
      "Array com índices omitidos:  [0 0 0 0 0 0 0 0 0 0 0 0 0 0 0 0 0 0 0 0 0 0 0 0 0 0 0 0 0 0 0 0 0 0 0 0 0 0 0 0 0 0 0 0 0 0 0 0 0 0 0 0 0 0 0 0 0 0 0 0 0 0 0 0 0 0 0 0 0 0 0 0 0 0 0 0 0 0 0 0 0 0 0 0 0 0 0 0 0 0 0 0 0 0 0 0 0 0 0 1]\n",
      "Tamanho do array:  100\n",
      "Capacidade do array:  100\n"
     ]
    }
   ],
   "source": [
    "%%\n",
    "arrayOmite := [...]int{99: 1}\n",
    "fmt.Println(\"Array com índices omitidos: \", arrayOmite)\n",
    "fmt.Println(\"Tamanho do array: \", len(arrayOmite))\n",
    "fmt.Println(\"Capacidade do array: \", cap(arrayOmite))"
   ]
  },
  {
   "cell_type": "markdown",
   "id": "dc808266-bce3-47d0-a8e1-6b4c19b8bb89",
   "metadata": {},
   "source": [
    "Arrays podem ter múltiplas dimensões.\n",
    "\n",
    "No exemplo abaixo, temos um array de duas dimensões, possuindo 3 linhas e 3 colunas em cada linha."
   ]
  },
  {
   "cell_type": "code",
   "execution_count": 8,
   "id": "e6263552-5007-4439-944e-d6dd9287cf84",
   "metadata": {},
   "outputs": [
    {
     "name": "stdout",
     "output_type": "stream",
     "text": [
      "Exemplo de um array multidimensional [[x   o] [  o  ] [x   o]]\n",
      "Tamanho de um array multidimensional 3\n"
     ]
    }
   ],
   "source": [
    "var jogoDaVelha = [3][3]string{\n",
    "    {\"x\", \" \", \"o\"},\n",
    "    {\" \", \"o\", \" \"},\n",
    "    {\"x\", \" \", \"o\"},\n",
    "}\n",
    "%%\n",
    "fmt.Println(\"Exemplo de um array multidimensional\", jogoDaVelha)\n",
    "fmt.Println(\"Tamanho de um array multidimensional\", len(jogoDaVelha))"
   ]
  },
  {
   "cell_type": "markdown",
   "id": "4a55867e-56f0-4afe-9916-65e23f5a653e",
   "metadata": {},
   "source": [
    "Para acessar o valor de um array, utilizamos um índice numérico que representa sua posição e inicia-se em zero.\n",
    "Por exemplo, dado um array de vogais, temos:\n",
    "```\n",
    "[\"a\", \"e\", \"i\", \"o\", \"u\"]\n",
    "  0    1    2    3    4\n",
    "```\n",
    "Ao acessarmos a posição 2 do array temos a letra \"i\". Ao acessar a posição 0, temos a letra \"a\".\n",
    "Lembre-se que indíces iniciam em 0.\n",
    "\n",
    "Em arrays de múltiplas dimensões, também acessamos suas posições através dos índices."
   ]
  },
  {
   "cell_type": "code",
   "execution_count": 9,
   "id": "2c256c32-d44d-4af4-8bdf-ebb985998c8a",
   "metadata": {},
   "outputs": [
    {
     "name": "stdout",
     "output_type": "stream",
     "text": [
      "A posição 2 do array é:  i\n",
      "A posição 0 do array é:  a\n",
      "Acessando o segundo elemento, da segunda linha:  o\n"
     ]
    }
   ],
   "source": [
    "%%\n",
    "vogais := [5]string{\"a\", \"e\", \"i\", \"o\", \"u\"}\n",
    "fmt.Println(\"A posição 2 do array é: \", vogais[2])\n",
    "fmt.Println(\"A posição 0 do array é: \", vogais[0])\n",
    "fmt.Println(\"Acessando o segundo elemento, da segunda linha: \", jogoDaVelha[1][1])\n",
    "\t"
   ]
  },
  {
   "cell_type": "markdown",
   "id": "6b116fdc-34a0-4092-aa6a-f0df06a0299f",
   "metadata": {},
   "source": [
    "Para modificarmos um valor de um array, basta atribuir um valor a um índice.\n",
    "\n",
    "O mesmo se aplica quando temos mais de uma dimensão."
   ]
  },
  {
   "cell_type": "code",
   "execution_count": 10,
   "id": "20f354f8-4dd6-427e-a524-cb3f8bde9711",
   "metadata": {},
   "outputs": [
    {
     "name": "stdout",
     "output_type": "stream",
     "text": [
      "Um array antes: [g h i       ]\n",
      "Um array depois: [g h i j      ]\n",
      "Exemplo de um array multidimensional antes:  [[x   o] [  o  ] [x   o]]\n",
      "Exemplo de um array multidimensional depois: [[x   o] [x o  ] [x   o]]\n"
     ]
    }
   ],
   "source": [
    "%%\n",
    "umArray := [10]string{\"g\", \"h\", \"i\"}\n",
    "fmt.Println(\"Um array antes:\", umArray)\n",
    "umArray[3] = \"j\"\n",
    "fmt.Println(\"Um array depois:\", umArray)\n",
    "\n",
    "fmt.Println(\"Exemplo de um array multidimensional antes: \", jogoDaVelha)\n",
    "jogoDaVelha[1][0] = \"x\"\n",
    "fmt.Println(\"Exemplo de um array multidimensional depois:\", jogoDaVelha)"
   ]
  },
  {
   "cell_type": "markdown",
   "id": "5632fa0e-d08e-4292-8938-3b1e5fb34c52",
   "metadata": {},
   "source": [
    "Como um array possui tamanho e capacidade fixo, não é possível deletar um elemento do array, porém podemos atribuir um valor-zero caso necessário."
   ]
  },
  {
   "cell_type": "code",
   "execution_count": 11,
   "id": "61c14a91-b30c-42ea-bcc9-bb5511817a49",
   "metadata": {},
   "outputs": [
    {
     "name": "stdout",
     "output_type": "stream",
     "text": [
      "Antes de \"remover\" uma posição:  [10]string{\"g\", \"h\", \"i\", \"j\", \"k\", \"\", \"\", \"\", \"\", \"\"}\n",
      "Depois de \"remover\" uma posição: [10]string{\"g\", \"h\", \"i\", \"\", \"k\", \"\", \"\", \"\", \"\", \"\"}\n"
     ]
    }
   ],
   "source": [
    "%%\n",
    "arr := [10]string{\"g\", \"h\", \"i\", \"j\", \"k\"}\n",
    "fmt.Printf(\"Antes de \\\"remover\\\" uma posição:  %#v\\n\", arr)\n",
    "arr[3] = \"\"\n",
    "fmt.Printf(\"Depois de \\\"remover\\\" uma posição: %#v\\n\", arr)"
   ]
  }
 ],
 "metadata": {
  "kernelspec": {
   "display_name": "Go (gonb)",
   "language": "go",
   "name": "gonb"
  },
  "language_info": {
   "codemirror_mode": "",
   "file_extension": ".go",
   "mimetype": "",
   "name": "go",
   "nbconvert_exporter": "",
   "pygments_lexer": "",
   "version": "go1.23.0"
  }
 },
 "nbformat": 4,
 "nbformat_minor": 5
}
