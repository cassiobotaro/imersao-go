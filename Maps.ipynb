{
 "cells": [
  {
   "cell_type": "markdown",
   "id": "471b35e7-64ec-4f3d-b37d-5f3d76f67f26",
   "metadata": {},
   "source": [
    "# Maps\n",
    "\n",
    "Mapa(map) é uma coleção não ordenada de pares chave/valor em que cada chave é unica e o valor associado a uma dada chave pode ser recuperado, atualizado ou removido usando, em média, um número constante de comparações de chaves, independente do tamanho da tabela.\n",
    "\n",
    "Definição retirada do excelente livro: https://www.amazon.com.br/Linguagem-Programa%C3%A7%C3%A3o-Go-Alan-Donovan/dp/8575225464\n",
    "\n",
    "Em outras linguagens são normalmente chamados dicionários, hash, hashmap, map, arrays associativos."
   ]
  },
  {
   "cell_type": "markdown",
   "id": "d6a13d6d-8a95-4eb9-9666-6fd6eb44661d",
   "metadata": {},
   "source": [
    "Sua declaração pode ser feita utilizando var, utilizando o comando make ou de forma literal."
   ]
  },
  {
   "cell_type": "code",
   "execution_count": 4,
   "id": "51ff5cdf-3d8d-4cfc-8638-304e4fb48762",
   "metadata": {},
   "outputs": [
    {
     "name": "stdout",
     "output_type": "stream",
     "text": [
      "As três maneiras de se definir um mapa, chegam ao mesmo resultado:  map[] map[] map[]\n",
      "Exemplo de mapa já preenchido:  map[abril:2 fevereiro:4 janeiro:2 março:6]\n"
     ]
    }
   ],
   "source": [
    "%%\n",
    "var mVar map[string]int // utilizando var\n",
    "\n",
    "mMake := make(map[string]int) // utilizando make\n",
    "\n",
    "mLiteralVazia := map[string]int{} // de forma literal\n",
    "\n",
    "mLiteralNaoVazia := map[string]int{ // literal com valores\n",
    "    \"janeiro\":   2,\n",
    "    \"fevereiro\": 4,\n",
    "    \"março\":     6,\n",
    "    \"abril\":     2,\n",
    "}\n",
    "\n",
    "fmt.Println(\"As três maneiras de se definir um mapa, chegam ao mesmo resultado: \", mVar, mMake, mLiteralVazia)\n",
    "fmt.Println(\"Exemplo de mapa já preenchido: \", mLiteralNaoVazia)"
   ]
  },
  {
   "cell_type": "markdown",
   "id": "98aa1517-728c-430a-8e7b-4cd4f5880126",
   "metadata": {},
   "source": [
    "Elementos de um mapa podem ser acessados à paritr de suas chaves, na notação de índice, similar a arrays."
   ]
  },
  {
   "cell_type": "code",
   "execution_count": 5,
   "id": "e183175f-db09-44f5-b668-61eab7fc273b",
   "metadata": {},
   "outputs": [
    {
     "name": "stdout",
     "output_type": "stream",
     "text": [
      "O valor da chave janeiro é 2\n",
      "O valor da chave março é 6\n"
     ]
    }
   ],
   "source": [
    "%%\n",
    "mLiteralNaoVazia := map[string]int{\n",
    "    \"janeiro\":   2,\n",
    "    \"fevereiro\": 4,\n",
    "    \"março\":     6,\n",
    "    \"abril\":     2,\n",
    "}\n",
    "fmt.Println(\"O valor da chave janeiro é\", mLiteralNaoVazia[\"janeiro\"])\n",
    "fmt.Println(\"O valor da chave março é\", mLiteralNaoVazia[\"março\"])"
   ]
  },
  {
   "cell_type": "markdown",
   "id": "872425d5-7d39-4ed6-a7ab-e9d7ea9a52c7",
   "metadata": {},
   "source": [
    "Buscar uma chave não existente, retorna o valor-zero para o tipo mapeado e um segundo valor booleano representando se a chave foi ou não encontrada."
   ]
  },
  {
   "cell_type": "code",
   "execution_count": 11,
   "id": "cf7a8d50-bc23-4d48-8e55-f2039084d21f",
   "metadata": {},
   "outputs": [
    {
     "name": "stdout",
     "output_type": "stream",
     "text": [
      "Chave ok?  true valor: Linux\n",
      "Chave ok?  false valor: \n"
     ]
    }
   ],
   "source": [
    "%%\n",
    "info := map[string]string {\"SO\":\"Linux\", \"version\":\"6.9\"}\n",
    "valor, ok := info[\"SO\"]\n",
    "fmt.Println(\"Chave ok? \", ok, \"valor:\", valor)\n",
    "\n",
    "valor, ok = info[\"inexistente\"]\n",
    "fmt.Println(\"Chave ok? \", ok, \"valor:\", valor)"
   ]
  },
  {
   "cell_type": "markdown",
   "id": "297e74bd-6815-4db8-b775-cda037607f0a",
   "metadata": {},
   "source": [
    "Podemos adicinar uma nova chave ou alterar o valor de uma chave fazendo atribuição a ela."
   ]
  },
  {
   "cell_type": "code",
   "execution_count": 16,
   "id": "c0251ae4-b4b3-4047-a301-9c6b67769e4a",
   "metadata": {},
   "outputs": [
    {
     "name": "stdout",
     "output_type": "stream",
     "text": [
      "mapa após alterações:  map[agosto:42 fevereiro:20 janeiro:1]\n"
     ]
    }
   ],
   "source": [
    "%%\n",
    "mapa := map[string]int{\"janeiro\": 1, \"fevereiro\": 2}\n",
    "// nova chave\n",
    "mapa[\"agosto\"] = 42\n",
    "// alteração de chave\n",
    "mapa[\"fevereiro\"] = 20\n",
    "\n",
    "fmt.Println(\"mapa após alterações: \", mapa)"
   ]
  },
  {
   "cell_type": "markdown",
   "id": "49713314-7b5f-4b81-a9ad-2aa27547abcd",
   "metadata": {},
   "source": [
    "Os dados em um mapa são organizados em um array de buckets(baldes). Cada bucket contém até 8 pares chave/elem.\n",
    "\n",
    "Se mais de 8 chaves forem calculadas(hash) em um bucket, encadeamos buckets extras chamados baldes de estouro (overflow buckets).\n",
    "\n",
    "Quando há muitos desses baldes de estouro, há uma redistribuição das entradas.\n",
    "\n",
    "Quando um mapa está com aproximadamente 80% da sua capacidade, ou seja normalmente 6,5 itens em cada bucket ele irá crescer, alocando um número de buckets duas vezes maior e reditribuindo suas entradas.\n",
    "\n",
    "Para saber mais a respeito, leia o artigo: https://victoriametrics.com/blog/go-map/"
   ]
  },
  {
   "cell_type": "markdown",
   "id": "d1dbe7c7-4588-4c81-8835-68446dcf6f79",
   "metadata": {},
   "source": [
    "Para deletar uma associação, utilizamos a função `delete`."
   ]
  },
  {
   "cell_type": "code",
   "execution_count": 18,
   "id": "954dd185-f214-4bea-bbb3-7db68d9da7cf",
   "metadata": {},
   "outputs": [
    {
     "name": "stdout",
     "output_type": "stream",
     "text": [
      "Map antes de deletar agosto:  map[agosto:10 fevereiro:2 janeiro:1]\n",
      "Map após deletar agosto:  map[fevereiro:2 janeiro:1]\n"
     ]
    }
   ],
   "source": [
    "%%\n",
    "mapa := map[string]int{\"janeiro\": 1, \"fevereiro\": 2, \"agosto\": 10}\n",
    "fmt.Println(\"Map antes de deletar agosto: \", mapa)\n",
    "delete(mapa, \"agosto\")\n",
    "fmt.Println(\"Map após deletar agosto: \", mapa)"
   ]
  },
  {
   "cell_type": "markdown",
   "id": "6990f9bb-cacd-4f01-be3f-cabf48f0eadd",
   "metadata": {},
   "source": [
    "É seguro realizar operações de delete, len e range em mapa nulo."
   ]
  },
  {
   "cell_type": "code",
   "execution_count": 29,
   "id": "4f2d6a57-07c9-4bdd-8bae-99ab3ce7dc8a",
   "metadata": {},
   "outputs": [
    {
     "name": "stdout",
     "output_type": "stream",
     "text": [
      "Ocorreu um pânico: assignment to entry in nil map\n"
     ]
    }
   ],
   "source": [
    "%%\n",
    "// o mapa foi definido mas não inicializado, portanto possui valor nulo\n",
    "var mVar map[string]int\n",
    "delete(mVar, \"chave\")\n",
    "_ = len(mVar)\n",
    "for _, v := range mVar {\n",
    "    fmt.Println(\"Se houvesse valores, imprimiria: \", v)\n",
    "}\n",
    "\n",
    "// Atribuir um valor a uma chave no mapa nulo gera um pânico, visto que o mapa não foi inicializado corretamente.\n",
    "defer func() {\n",
    "    if r := recover(); r != nil {\n",
    "        fmt.Println(\"Ocorreu um pânico:\", r)\n",
    "    }\n",
    "}()\n",
    "mVar[\"chave\"] = 1"
   ]
  },
  {
   "cell_type": "markdown",
   "id": "f32b6470-133f-4605-903c-9d4515cf6e3e",
   "metadata": {},
   "source": [
    "A iteração dos elementos de um mapa são realizadas utilizando range."
   ]
  },
  {
   "cell_type": "code",
   "execution_count": 25,
   "id": "b0129c4c-541f-465b-9a4c-949d1f0e4d74",
   "metadata": {},
   "outputs": [
    {
     "name": "stdout",
     "output_type": "stream",
     "text": [
      "A chave  fevereiro está associada ao valor  4\n",
      "A chave  março está associada ao valor  6\n",
      "A chave  abril está associada ao valor  2\n",
      "A chave  janeiro está associada ao valor  2\n"
     ]
    }
   ],
   "source": [
    "%%\n",
    "mLiteralNaoVazia := map[string]int{\n",
    "    \"janeiro\":   2,\n",
    "    \"fevereiro\": 4,\n",
    "    \"março\":     6,\n",
    "    \"abril\":     2,\n",
    "}\n",
    "\n",
    "for chave, valor := range mLiteralNaoVazia {\n",
    "    fmt.Println(\"A chave \", chave, \"está associada ao valor \", valor)\n",
    "}"
   ]
  },
  {
   "cell_type": "markdown",
   "id": "3f16bb97-b8f4-409b-af32-74274399e6df",
   "metadata": {},
   "source": [
    "Operações de escrita e leitura em mapas em diferentes gorotinas não são seguras.\n",
    "\n",
    "Veja um exemplo através deste link: https://go.dev/play/p/8ksDHEguqcJ.\n",
    "\n",
    "Uma maneira de contornar este problema é utilizando ferramentas de sincronia como Mutex e canais ou sync.Map como neste exemplo: https://go.dev/play/p/l_pM1LfOTHT."
   ]
  },
  {
   "cell_type": "markdown",
   "id": "16ae4244-1b50-468c-a382-1c1f34582cbd",
   "metadata": {},
   "source": [
    "Uma feature interessante e com grande potencial é a utilização de generics como visto no exemplo abaixo.\n",
    "\n",
    "A mesma função pode ser utilizada com inteiros ou string pois ambas as coleções são de elementos comparáveis (==)."
   ]
  },
  {
   "cell_type": "code",
   "execution_count": 30,
   "id": "807cc4a5-515c-491f-9531-5c2de6495cac",
   "metadata": {},
   "outputs": [
    {
     "name": "stdout",
     "output_type": "stream",
     "text": [
      "Mapa de ocorrência dos valores map[1:4 2:2 3:2 4:1]\n",
      "Mapa de ocorrência dos valores map[0:98 1:2 3:1 6:1]\n",
      "Mapa de ocorrência dos valores map[em:1 partido:1 pedaços:1 texto:1 um:1]\n",
      "Mapa de ocorrência dos valores map[aa:3 ab:1 bc:2]\n"
     ]
    }
   ],
   "source": [
    "func calculaOcorrencias[T comparable](colecao []T) map[T]int {\n",
    "\tocorrencias := make(map[T]int, len(colecao))\n",
    "\tfor _, item := range colecao {\n",
    "\t\tocorrencias[item]++\n",
    "\t}\n",
    "\treturn ocorrencias\n",
    "}\n",
    "\n",
    "%%\n",
    "fmt.Println(\"Mapa de ocorrência dos valores\", calculaOcorrencias([]int{1, 2, 3, 1, 2, 1, 1, 3, 4}))\n",
    "fmt.Println(\"Mapa de ocorrência dos valores\", calculaOcorrencias([]int{1: 3, 4: 6, 99: 0, 1, 1}))\n",
    "\n",
    "fmt.Println(\"Mapa de ocorrência dos valores\", calculaOcorrencias([]string{\"um\", \"texto\", \"partido\", \"em\", \"pedaços\"}))\n",
    "fmt.Println(\"Mapa de ocorrência dos valores\", calculaOcorrencias([]string{\"ab\", \"bc\", \"aa\", \"aa\", \"bc\", \"aa\"}))"
   ]
  },
  {
   "cell_type": "markdown",
   "id": "c0af8bfe-bb90-494a-9a71-3f9ce386c3b1",
   "metadata": {},
   "source": [
    "Nas versões mais recentes da linguagem o pacote maps fo introduzido.\n",
    "\n",
    "Algumas funções do pacote são aplicadas diretamente em um slice:"
   ]
  },
  {
   "cell_type": "code",
   "execution_count": 32,
   "id": "7331dcac-8bc9-49a8-a315-163597d9e095",
   "metadata": {},
   "outputs": [
    {
     "name": "stdout",
     "output_type": "stream",
     "text": [
      "true\n",
      "false\n"
     ]
    }
   ],
   "source": [
    "%%\n",
    "m1 := map[int]string{\n",
    "    1:    \"one\",\n",
    "    10:   \"Ten\",\n",
    "    1000: \"THOUSAND\",\n",
    "}\n",
    "m2 := map[int]string{\n",
    "    1:    \"one\",\n",
    "    10:   \"Ten\",\n",
    "    1000: \"THOUSAND\",\n",
    "}\n",
    "m3 := map[int]string{\n",
    "    1:    \"one\",\n",
    "    10:   \"ten\",\n",
    "    1000: \"thousand\",\n",
    "}\n",
    "fmt.Println(maps.Equal(m1, m2))\n",
    "fmt.Println(maps.Equal(m1, m3))"
   ]
  },
  {
   "cell_type": "markdown",
   "id": "b14014b1-ff9a-4f4a-b65f-96d868dc3076",
   "metadata": {},
   "source": [
    "Outras retornam um novo `map`:"
   ]
  },
  {
   "cell_type": "code",
   "execution_count": 34,
   "id": "df1a6709-e2ce-498c-8e1e-be93243357b6",
   "metadata": {},
   "outputs": [
    {
     "name": "stdout",
     "output_type": "stream",
     "text": [
      "1\n",
      "100\n"
     ]
    }
   ],
   "source": [
    "%%\n",
    "m1 := map[string]int{\n",
    "    \"key\": 1,\n",
    "}\n",
    "m2 := maps.Clone(m1)\n",
    "m2[\"key\"] = 100\n",
    "fmt.Println(m1[\"key\"])\n",
    "fmt.Println(m2[\"key\"])"
   ]
  },
  {
   "cell_type": "markdown",
   "id": "dd0e9816-c57b-455b-aeaf-fa099d6309c3",
   "metadata": {},
   "source": [
    "Algumas funções retornam iteradores:"
   ]
  },
  {
   "cell_type": "code",
   "execution_count": 41,
   "id": "7e85e52a-5e07-4afc-bb64-d8ff77dbe66f",
   "metadata": {},
   "outputs": [
    {
     "name": "stdout",
     "output_type": "stream",
     "text": [
      "key1  ->  1\n",
      "key2  ->  2\n",
      "key3  ->  3\n",
      "Somente chaves\n",
      "key1\n",
      "key2\n",
      "key3\n",
      "Somente valores\n",
      "3\n",
      "1\n",
      "2\n"
     ]
    }
   ],
   "source": [
    "%%\n",
    "m1 := map[string]int{\n",
    "    \"key1\": 1,\n",
    "    \"key2\": 2,\n",
    "    \"key3\": 3,\n",
    "}\n",
    "\n",
    "for key, value := range maps.All(m1){\n",
    "    fmt.Println(key, \" -> \", value)\n",
    "}\n",
    "\n",
    "fmt.Println(\"Somente chaves\")\n",
    "for key := range maps.Keys(m1){\n",
    "    fmt.Println(key)\n",
    "}\n",
    "\n",
    "fmt.Println(\"Somente valores\")\n",
    "for value := range maps.Values(m1){\n",
    "    fmt.Println(value)\n",
    "}"
   ]
  },
  {
   "cell_type": "markdown",
   "id": "f0f90725-95c8-40fa-bba9-b1d250291d21",
   "metadata": {},
   "source": [
    "E ainda, funções que recebem iteradores e retornam slides:\n",
    "\n",
    "Os iteradores recebidos aqui são `iter.Seq2`, ou sejam, possuem dois valores a cada iteração."
   ]
  },
  {
   "cell_type": "code",
   "execution_count": 49,
   "id": "d1f6dfe7-0bd2-495b-80d1-45c201c11b4a",
   "metadata": {},
   "outputs": [
    {
     "name": "stdout",
     "output_type": "stream",
     "text": [
      "map[0:0 1:4 2:2 3:1 4:6 5:9 6:8 7:0 10:1 12:8]\n"
     ]
    }
   ],
   "source": [
    "%%\n",
    "mapa := map[int]int{10: 1, 12: 8}\n",
    "numbers := []int{0, 4, 2, 1, 6, 9, 8, 0}\n",
    "// slices.All retorna iter.Seq2 (índice e valor no array)\n",
    "maps.Insert(mapa, slices.All(numbers))\n",
    "// A chave utilizada na inserção é o índice do número no array e o valor é o próprio valor do elemento.\n",
    "fmt.Println(mapa)"
   ]
  },
  {
   "cell_type": "markdown",
   "id": "94e1314b-f791-4377-b9ca-44e958405729",
   "metadata": {},
   "source": [
    "Para maiores detalhes consulte https://pkg.go.dev/maps"
   ]
  },
  {
   "cell_type": "code",
   "execution_count": null,
   "id": "1999b5e5-ec6b-416f-abaf-a544162220d2",
   "metadata": {},
   "outputs": [],
   "source": []
  }
 ],
 "metadata": {
  "kernelspec": {
   "display_name": "Go (gonb)",
   "language": "go",
   "name": "gonb"
  },
  "language_info": {
   "codemirror_mode": "",
   "file_extension": ".go",
   "mimetype": "",
   "name": "go",
   "nbconvert_exporter": "",
   "pygments_lexer": "",
   "version": "go1.23.0"
  }
 },
 "nbformat": 4,
 "nbformat_minor": 5
}
