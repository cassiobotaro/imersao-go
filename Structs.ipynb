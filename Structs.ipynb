{
 "cells": [
  {
   "cell_type": "markdown",
   "id": "605c4dc1-1714-40c9-9ab2-6ca789a0680b",
   "metadata": {},
   "source": [
    "# Structs\n",
    "\n",
    "Estruturas (structs) são um tipo de dado agragado que agrupam zero ou mais valores nomeados de tipos quiasquer como uma única entidade.\n",
    "Definição retirada do excelente livro: https://www.amazon.com.br/Linguagem-Programa%C3%A7%C3%A3o-Go-Alan-Donovan/dp/8575225464"
   ]
  },
  {
   "cell_type": "markdown",
   "id": "820a18f4-ce4e-4236-98b4-14a1f90d4620",
   "metadata": {},
   "source": [
    "A declaração de uma estrutura é feita da seguinte maneira:"
   ]
  },
  {
   "cell_type": "code",
   "execution_count": 3,
   "id": "4a14aedc-0751-40b6-99f2-f8d15ff33da7",
   "metadata": {},
   "outputs": [],
   "source": [
    "type pessoa struct {\n",
    "    nome  string\n",
    "\tidade int\n",
    "}"
   ]
  },
  {
   "cell_type": "markdown",
   "id": "4b75f792-3932-4f74-86b9-9716999cacef",
   "metadata": {},
   "source": [
    "A criação de uma instância da estrutura pode ser feita de várias formas.\n",
    "\n",
    "Utilizando `var` onde os campos da estrutura são preenchidos com os valores-zero de cada campo. Ex: string vazia para campos string e 0 para campos inteiros.\n",
    "\n",
    "Utilizando `new` onde também os campos são preenchidos com valores-zero, porém o retorno é uma referência a estrutura. É equivalente a `var nome *estrutura`.\n",
    "\n",
    "De maneira literal com campos nomeados ou não.\n",
    "\n",
    "A utilização do `&` indica que será criada uma referência a uma estrutura."
   ]
  },
  {
   "cell_type": "code",
   "execution_count": 12,
   "id": "90971237-64ac-42a2-951c-78c7d8d4a718",
   "metadata": {},
   "outputs": [
    {
     "name": "stdout",
     "output_type": "stream",
     "text": [
      "A representação de uma pessoa: {Debora 33}\n",
      "A representação de uma pessoa e seus campos: {nome:Debora idade:33}\n",
      "A representação na sintaxe Go de uma pessoa: main.pessoa{nome:\"Debora\", idade:33}\n",
      "A representação de uma pessoa: &{Ana 30}\n",
      "A representação de uma pessoa e seus campos: &{nome:Ana idade:30}\n",
      "A representação na sintaxe Go de uma pessoa: &main.pessoa{nome:\"Ana\", idade:30}\n"
     ]
    }
   ],
   "source": [
    "var adriano pessoa // utilizando var\n",
    "%%\n",
    "pedro := new(pessoa) // utilizando new\n",
    "\n",
    "// De maneira literal\n",
    "maria := &pessoa{} // Sem preencher os campos. Valores-zero serão atribuídos\n",
    "debora := pessoa{\"Debora\", 33} // Campos não nomeados\n",
    "ana := &pessoa{nome: \"Ana\", idade: 30} // Campos nomeados\n",
    "\n",
    "// Os campos individuais podem ser acessados através da notação de ponto\n",
    "adriano.nome = \"Adriano\"\n",
    "adriano.idade = 40\n",
    "\n",
    "// A mesma notação é utilizada para acessar os campos de uma referência de uma estrutura\n",
    "pedro.nome = \"Pedro\"\n",
    "pedro.idade = 35\n",
    "\n",
    "maria.nome = \"Maria\"\n",
    "maria.idade = 25\n",
    "\n",
    "// Algumas maneiras de imprimir uma estrutura:\n",
    "fmt.Printf(\"A representação de uma pessoa: %v\\n\", debora)\n",
    "fmt.Printf(\"A representação de uma pessoa e seus campos: %+v\\n\", debora)\n",
    "fmt.Printf(\"A representação na sintaxe Go de uma pessoa: %#v\\n\", debora)\n",
    "\n",
    "// O mesmo vale para referências\n",
    "fmt.Printf(\"A representação de uma pessoa: %v\\n\", ana)\n",
    "fmt.Printf(\"A representação de uma pessoa e seus campos: %+v\\n\", ana)\n",
    "fmt.Printf(\"A representação na sintaxe Go de uma pessoa: %#v\\n\", ana)"
   ]
  },
  {
   "cell_type": "code",
   "execution_count": 13,
   "id": "689222b1-5b33-417b-842a-fc09fd9cbef2",
   "metadata": {},
   "outputs": [
    {
     "name": "stdout",
     "output_type": "stream",
     "text": [
      "Idade da Debora após incremento errado deveria ser 34, mas o encontrado foi:  {Debora 33}\n"
     ]
    }
   ],
   "source": [
    "%% \n",
    "debora := pessoa{\"Debora\", 33}\n",
    "// Esta função apresenta um problema, consegue dizer qual é?\n",
    "incrementaIdadeIncorreta := func(p pessoa) {\n",
    "    p.idade++\n",
    "}\n",
    "incrementaIdadeIncorreta(debora)\n",
    "fmt.Println(\"Idade da Debora após incremento errado deveria ser 34, mas o encontrado foi: \", debora)"
   ]
  },
  {
   "cell_type": "code",
   "execution_count": 20,
   "id": "396e917c-c683-465e-ba48-4230216ada22",
   "metadata": {},
   "outputs": [
    {
     "name": "stdout",
     "output_type": "stream",
     "text": [
      "Idade da Debora antes do incremento é:  33\n",
      "Idade da Ana antes do incremento é:  30\n",
      "Idade da Debora após incremento é:  34\n",
      "Idade da Ana após incremento é:  31\n"
     ]
    }
   ],
   "source": [
    "%%\n",
    "// Para alterar um campo de uma estrutura devemos ter a referência da estrutura\n",
    "incrementaIdade := func(p *pessoa) {\n",
    "    p.idade++\n",
    "}\n",
    "\n",
    "\n",
    "debora := pessoa{\"Debora\", 33} \n",
    "ana := &pessoa{nome: \"Ana\", idade: 30}\n",
    "\n",
    "fmt.Println(\"Idade da Debora antes do incremento é: \", debora.idade)\n",
    "fmt.Println(\"Idade da Ana antes do incremento é: \", ana.idade)\n",
    "incrementaIdade(ana)\n",
    "// para ter uma referência a debora utilizamos &\n",
    "incrementaIdade(&debora)\n",
    "fmt.Println(\"Idade da Debora após incremento é: \", debora.idade)\n",
    "fmt.Println(\"Idade da Ana após incremento é: \", ana.idade)\n"
   ]
  },
  {
   "cell_type": "markdown",
   "id": "dae03b22-1b57-4874-a8ec-49df0dad1b66",
   "metadata": {},
   "source": [
    "A comparação entre duas estrturas é feita campo a campo. \n",
    "\n",
    "Tenha cuidado ao comparar referências de estruturas, pois estruturas que possuam campos iguais possuem referências diferentes.\n",
    "\n",
    "\toutroAdriano := pessoa{\"Adriano\", 40}\n",
    "\tfmt.Println(\"Os Adrianos são iguais sem sobrenome e caso tenham mesma idade? \", adriano == outroAdriano)\n",
    "\t// Tenha cuidado ao comparar ponteiros de estruturas\n",
    "\tfmt.Println(\"Os Pedros são iguais sem sobrenome e caso tenham mesma idade? \", pedro == &pessoa{\"Pedro\", 35})\n",
    "\t// As estruturas são iguais, mas os ponteiros não"
   ]
  },
  {
   "cell_type": "code",
   "execution_count": 24,
   "id": "f9144d5a-3271-48ec-b7dc-6dee37a4b0fd",
   "metadata": {},
   "outputs": [
    {
     "name": "stdout",
     "output_type": "stream",
     "text": [
      "Os Adrianos são iguais sem sobrenome e caso tenham mesma idade?  true\n",
      "Os Pedros são iguais sem sobrenome e caso tenham mesma idade?  false\n",
      "Os *Pedros são iguais sem sobrenome e caso tenham mesma idade?  true\n"
     ]
    }
   ],
   "source": [
    "%%\n",
    "adriano := pessoa{\"Adriano\", 40}\n",
    "outroAdriano := pessoa{\"Adriano\", 40}\n",
    "\n",
    "pedro := &pessoa{\"Pedro\", 35}\n",
    "outroPedro := &pessoa{\"Pedro\", 35}\n",
    "\n",
    "fmt.Println(\"Os Adrianos são iguais sem sobrenome e caso tenham mesma idade? \", adriano == outroAdriano)\n",
    "\n",
    "\n",
    "// Estamos comparando as referências e não as estruturas\n",
    "fmt.Println(\"Os Pedros são iguais sem sobrenome e caso tenham mesma idade? \", pedro == outroPedro)\n",
    "// O * faz a derreferencia da estrutura. É equivalente a dizer: O conteúdo referenciado por pedro é igual ao conteúdo refenciado por outroPedro.\n",
    "fmt.Println(\"Os *Pedros são iguais sem sobrenome e caso tenham mesma idade? \", *pedro == *outroPedro)"
   ]
  },
  {
   "cell_type": "markdown",
   "id": "363f434a-b88f-405d-8f9e-c0759325254b",
   "metadata": {},
   "source": [
    "Estruturas podem ser aninhadas.\n",
    "\n",
    "Quando aninhados, a estrutura interna pode ser nomeada ou não.\n",
    "\n",
    "Campos de estruturas incluídas em outras podem ser acessados diretamente por notação de ponto, mesmo quando as estruturas aninhadas não são nomeados."
   ]
  },
  {
   "cell_type": "code",
   "execution_count": 30,
   "id": "90464467-c0cb-431b-bc72-5111ea9bfd36",
   "metadata": {},
   "outputs": [
    {
     "name": "stdout",
     "output_type": "stream",
     "text": [
      "A pessoa empregada com cargo de liderança: {pessoa:{nome:Marcio idade:41} ID:1 cargo:Líder da Squad}\n",
      "A pessoa empregada sem cargo de liderança: {pessoa:{nome:Jean idade:38} ID:2 cargo:Engenheiro de Software}\n",
      "O nome da pessoa empregada com cargo de liderança:  Marcio\n",
      "O nome da pessoa empregada sem cargo de liderança:  Jean\n"
     ]
    }
   ],
   "source": [
    "%%\n",
    "type empregado struct {\n",
    "    // A estrutura pessoa está incluída na estrutura de um empregado\n",
    "    // o campo pessoa é anônimo, ou seja, não possui um nome vinculado a ele\n",
    "    pessoa\n",
    "    ID    int\n",
    "    cargo string\n",
    "}\n",
    "\n",
    "lider := empregado{\n",
    "    pessoa: pessoa{nome: \"Marcio\", idade: 41},\n",
    "    ID:     1,\n",
    "    cargo:  \"Líder da Squad\",\n",
    "}\n",
    "\n",
    "liderado := empregado{\n",
    "    pessoa: pessoa{nome: \"Jean\", idade: 38},\n",
    "    ID:     2,\n",
    "    cargo:  \"Engenheiro de Software\",\n",
    "}\n",
    "\n",
    "fmt.Printf(\"A pessoa empregada com cargo de liderança: %+v\\n\", lider)\n",
    "fmt.Printf(\"A pessoa empregada sem cargo de liderança: %+v\\n\", liderado)\n",
    "\n",
    "// Ainda que a estrutura empregado não possua o campo nome, como ela inclui a estrutura pessoa, podemos acessar o campo diretamente.\n",
    "fmt.Println(\"O nome da pessoa empregada com cargo de liderança: \", lider.nome)\n",
    "fmt.Println(\"O nome da pessoa empregada sem cargo de liderança: \", liderado.nome)"
   ]
  },
  {
   "cell_type": "markdown",
   "id": "ad0af0a4-970e-4204-bc2c-70db93019666",
   "metadata": {},
   "source": [
    "Estrutura podem ter métodos vinculados a elas.\n",
    "\n",
    "Campos iniciados com letra minúscula indicam que seu acesso pode ser feito somente em seu pacote e quando em letras maiúsculas o acesso pode ser feito de forma pública.\n",
    "\n",
    "Métodos vinculados a estruturas também podem ser acessados diretamente em estruturas incluídas em outras. Ex: O método `Incrementar` pode ser invocado pela estrutura métrica."
   ]
  },
  {
   "cell_type": "code",
   "execution_count": null,
   "id": "114a09e0-ca44-473e-8879-3e7b16985675",
   "metadata": {},
   "outputs": [],
   "source": [
    "type Contador struct{ n int }\n",
    "\n",
    "// O método N é o que conhecemos como \"getter\" em outras linguagens. Em go utilizamos o nome do campo sem o prefixo \"get.\"\n",
    "// https://go.dev/doc/effective_go#Getters\n",
    "func (c Contador) N() int { return c.n }\n",
    "\n",
    "// O vínculo aqui acontece a um ponteiro de contador, pois é necessário modificar o valor do campo\n",
    "func (c *Contador) Incrementar() { c.n++ }\n",
    "\n",
    "type Metrica struct {\n",
    "\tContador\n",
    "\tDescricao string\n",
    "}\n",
    "\n",
    "\n",
    "%%\n",
    "contador := Contador{}\n",
    "contador.Incrementar()\n",
    "fmt.Println(\"Após incremento o contador possui valor: \", contador.N())\n",
    "\n",
    "vendasPorMinuto := &Metrica{\n",
    "    Descricao: \"Vendas por Minuto\",\n",
    "}\n",
    "vendasPorMinuto.Incrementar()\n",
    "fmt.Println(\"O número de vendas por minuto agora é: \", vendasPorMinuto.N())"
   ]
  },
  {
   "cell_type": "code",
   "execution_count": null,
   "id": "5d1a1661-be2a-487f-93bf-b096fe0ca41a",
   "metadata": {},
   "outputs": [],
   "source": []
  }
 ],
 "metadata": {
  "kernelspec": {
   "display_name": "Go (gonb)",
   "language": "go",
   "name": "gonb"
  },
  "language_info": {
   "codemirror_mode": "",
   "file_extension": ".go",
   "mimetype": "",
   "name": "go",
   "nbconvert_exporter": "",
   "pygments_lexer": "",
   "version": "go1.23.0"
  }
 },
 "nbformat": 4,
 "nbformat_minor": 5
}
