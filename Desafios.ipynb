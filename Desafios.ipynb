{
 "cells": [
  {
   "cell_type": "markdown",
   "id": "6c69bd0f-aa19-4643-aa20-cc59b14cea8c",
   "metadata": {},
   "source": [
    "1. Dedup\n",
    "   \n",
    "Dado um array inteiro nums, retorne true se qualquer valor aparecer pelo menos duas vezes no array e retorne false se cada elemento for distinto."
   ]
  },
  {
   "cell_type": "code",
   "execution_count": null,
   "id": "28a9cf3f-498b-43b6-8336-2f1fa54d6342",
   "metadata": {},
   "outputs": [],
   "source": [
    "func contemDuplicado(nums []int) bool {\n",
    "\treturn false\n",
    "}"
   ]
  },
  {
   "cell_type": "code",
   "execution_count": null,
   "id": "e355b925-59bf-44f1-99bb-b5f680d83227",
   "metadata": {},
   "outputs": [],
   "source": [
    "func TestExamploDup1(t *testing.T) {\n",
    "\tesperado := true\n",
    "\tnums := []int{1, 2, 3, 1}\n",
    "\n",
    "\tobtido := contemDuplicado(nums)\n",
    "\tif obtido != esperado {\n",
    "\t\tt.Errorf(\"Esperado %v, mas obtido %v\", esperado, obtido)\n",
    "\t}\n",
    "}\n",
    "\n",
    "func TestExamploDup2(t *testing.T) {\n",
    "\tesperado := false\n",
    "\tnums := []int{1, 2, 3, 4}\n",
    "\n",
    "\tobtido := contemDuplicado(nums)\n",
    "\tif obtido != esperado {\n",
    "\t\tt.Errorf(\"Esperado %v, mas obtido %v\", esperado, obtido)\n",
    "\t}\n",
    "}\n",
    "\n",
    "func TestExamploDup3(t *testing.T) {\n",
    "\tesperado := true\n",
    "\tnums := []int{1, 1, 1, 3, 3, 4, 3, 2, 4, 2}\n",
    "\n",
    "\tobtido := contemDuplicado(nums)\n",
    "\tif obtido != esperado {\n",
    "\t\tt.Errorf(\"Esperado %v, mas obtido %v\", esperado, obtido)\n",
    "\t}\n",
    "}\n",
    "\n",
    "%test"
   ]
  },
  {
   "cell_type": "markdown",
   "id": "61252bbb-8ab3-4fea-b244-5e5979a4519d",
   "metadata": {},
   "source": [
    "2. Dada um array ordenado de inteiros distintos e um valor alvo, retorne o índice se o alvo for encontrado. Caso contrário, retorne o índice onde estaria se fosse inserido em ordem."
   ]
  },
  {
   "cell_type": "code",
   "execution_count": null,
   "id": "697a217e-877b-4e95-8f08-c0b9452689c3",
   "metadata": {},
   "outputs": [],
   "source": [
    "func pesquisarInserir(nums []int, alvo int) int {\n",
    "\treturn 42\n",
    "}"
   ]
  },
  {
   "cell_type": "code",
   "execution_count": null,
   "id": "cdc5401f-e7c4-4ee6-b640-cc7a91180928",
   "metadata": {},
   "outputs": [],
   "source": [
    "func TestExamploInserir1(t *testing.T) {\n",
    "\talvo := 5\n",
    "\tesperado := 2\n",
    "\tnums := []int{1, 3, 5, 6}\n",
    "\n",
    "\tobtido := pesquisarInserir(nums, alvo)\n",
    "\tif obtido != esperado {\n",
    "\t\tt.Errorf(\"Esperado %v, mas obtido %v\", esperado, obtido)\n",
    "\t}\n",
    "}\n",
    "\n",
    "func TestExamploInserir2(t *testing.T) {\n",
    "\talvo := 2\n",
    "\tesperado := 1\n",
    "\tnums := []int{1, 3, 5, 6}\n",
    "\n",
    "\tobtido := pesquisarInserir(nums, alvo)\n",
    "\tif obtido != esperado {\n",
    "\t\tt.Errorf(\"Esperado %v, mas obtido %v\", esperado, obtido)\n",
    "\t}\n",
    "}\n",
    "\n",
    "func TestExamploInserir3(t *testing.T) {\n",
    "\talvo := 7\n",
    "\tesperado := 4\n",
    "\tnums := []int{1, 3, 5, 6}\n",
    "\n",
    "\tobtido := pesquisarInserir(nums, alvo)\n",
    "\tif obtido != esperado {\n",
    "\t\tt.Errorf(\"Esperado %v, mas obtido %v\", esperado, obtido)\n",
    "\t}\n",
    "}\n",
    "%test"
   ]
  },
  {
   "cell_type": "markdown",
   "id": "9964dd85-a704-4a66-a8cd-2d0bd4265cd9",
   "metadata": {},
   "source": [
    "Dada uma string s contendo apenas os caracteres `'(', ')', '{', '}', '[' e ']'`, determine se a string de entrada é válida.\n",
    "\n",
    "Uma string de entrada é válida se:\n",
    "\n",
    "Os caracteres abertos devem ser fechados pelo mesmo tipo de caracteres.\n",
    "Os caracteres abertos devem ser fechados na ordem correta.\n",
    "Cada caracter fechado tem um caracter aberto correspondente do mesmo tipo."
   ]
  },
  {
   "cell_type": "code",
   "execution_count": null,
   "id": "7a6e107c-a3ef-4a4f-8bac-d162a51e58da",
   "metadata": {},
   "outputs": [],
   "source": [
    "func ehValido(s string) bool {\n",
    "\treturn false\n",
    "}\n"
   ]
  },
  {
   "cell_type": "code",
   "execution_count": null,
   "id": "5a49a192-977a-4f0a-ab7c-044c2cae7b81",
   "metadata": {},
   "outputs": [],
   "source": [
    "func TestExamploParenteses1(t *testing.T) {\n",
    "\tentrada := \"()\"\n",
    "\tesperado := true\n",
    "\n",
    "\tobtido := ehValido(entrada)\n",
    "\tif obtido != esperado {\n",
    "\t\tt.Errorf(\"Esperado %v, mas obtido %v\", esperado, obtido)\n",
    "\t}\n",
    "}\n",
    "\n",
    "func TestExamploParenteses2(t *testing.T) {\n",
    "\tentrada := \"()[]{}\"\n",
    "\tesperado := true\n",
    "\n",
    "\tobtido := ehValido(entrada)\n",
    "\tif obtido != esperado {\n",
    "\t\tt.Errorf(\"Esperado %v, mas obtido %v\", esperado, obtido)\n",
    "\t}\n",
    "}\n",
    "\n",
    "func TestExamploParenteses3(t *testing.T) {\n",
    "\tentrada := \"(]\"\n",
    "\tesperado := false\n",
    "\n",
    "\tobtido := ehValido(entrada)\n",
    "\tif obtido != esperado {\n",
    "\t\tt.Errorf(\"Esperado %v, mas obtido %v\", esperado, obtido)\n",
    "\t}\n",
    "}\n",
    "%test"
   ]
  },
  {
   "cell_type": "code",
   "execution_count": null,
   "id": "10c364b6-931e-4969-81dd-206431bca7ae",
   "metadata": {},
   "outputs": [],
   "source": []
  }
 ],
 "metadata": {
  "kernelspec": {
   "display_name": "Go (gonb)",
   "language": "go",
   "name": "gonb"
  },
  "language_info": {
   "codemirror_mode": "",
   "file_extension": ".go",
   "mimetype": "",
   "name": "go",
   "nbconvert_exporter": "",
   "pygments_lexer": "",
   "version": "go1.23.0"
  }
 },
 "nbformat": 4,
 "nbformat_minor": 5
}
