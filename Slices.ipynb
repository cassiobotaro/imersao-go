{
 "cells": [
  {
   "cell_type": "markdown",
   "id": "f7a4e1f4-c41e-4de4-b7f3-3e10b25fd126",
   "metadata": {},
   "source": [
    "# Slices\n",
    "\n",
    "Slices (fatias), são sequências de tamanho variável cujos elementos tem o mesmo tipo."
   ]
  },
  {
   "cell_type": "markdown",
   "id": "cf00e2fd-b1fd-471b-8886-80fe54bef395",
   "metadata": {},
   "source": [
    "Sua declaração é bastante similar aos arrays, mas seu tamanho não é definido.\n",
    "\n",
    "No exemplo abaixo, podemos ver a declaração de um slice de números inteiros."
   ]
  },
  {
   "cell_type": "code",
   "execution_count": 1,
   "id": "14be3928-d5a0-4088-9be9-d1719cd63472",
   "metadata": {},
   "outputs": [
    {
     "name": "stdout",
     "output_type": "stream",
     "text": [
      "Slice vazio []\n",
      "Tamanho do slice:  0\n"
     ]
    }
   ],
   "source": [
    "var slice []int\n",
    "%%\n",
    "fmt.Println(\"Slice vazio\", slice)\n",
    "fmt.Println(\"Tamanho do slice: \", len(slice))"
   ]
  },
  {
   "cell_type": "markdown",
   "id": "ed51b76d-392c-4eae-9414-62534fadbea9",
   "metadata": {},
   "source": [
    "Outra maneira de criar um slice é inicializando-o, declarando de forma literal seus valores."
   ]
  },
  {
   "cell_type": "code",
   "execution_count": 2,
   "id": "2a747c86-7020-46b3-9d1c-131da4ca4912",
   "metadata": {},
   "outputs": [
    {
     "name": "stdout",
     "output_type": "stream",
     "text": [
      "Slice declarado de forma literal:  [a e i o u]\n",
      "Tamanho do slice: 5\n"
     ]
    }
   ],
   "source": [
    "%%\n",
    "vogais := []string{\"a\", \"e\", \"i\", \"o\", \"u\"}\n",
    "fmt.Println(\"Slice declarado de forma literal: \", vogais)\n",
    "fmt.Println(\"Tamanho do slice:\", len(vogais))"
   ]
  },
  {
   "cell_type": "markdown",
   "id": "5fc4ee13-38a0-42af-8374-d909ed0dab2f",
   "metadata": {},
   "source": [
    "Podemos declarar slices a partir de arrays.\n",
    "\n",
    "No exemplo abaixo, pegamos uma fatia do array que vai do primeiro mês até o sexto (primeiroSemestre). É o equivalente a `[0:6]`, porém podemos omitir o primeiro valor.\n",
    "\n",
    "Podemos utilizar a notação de fatiamento para recuperar á fatias a partir de determinado valor também(segundoSemestre). Quando omitimos o valor final é equivalente a dizer `[6: 13]`.\n",
    "\n",
    "E tambem podemos criar uma fatia de todo o array(ano).\n",
    "\n",
    "Vemos que a sintáxe de fatiamento é s[i:j] com 0 <= i <= j <= cap(s) podendo ser omitidos i ou j."
   ]
  },
  {
   "cell_type": "code",
   "execution_count": 3,
   "id": "6f674194-c2fe-4549-8278-d17dadcda806",
   "metadata": {},
   "outputs": [
    {
     "name": "stdout",
     "output_type": "stream",
     "text": [
      "O primeiro semestre é:  [jan fev mar abr mai jun]\n",
      "O segundo semestre é:  [jul ago set out nov dez]\n",
      "O ano tem os meses:  [jan fev mar abr mai jun jul ago set out nov dez]\n"
     ]
    }
   ],
   "source": [
    "%%\n",
    "meses := [12]string{\"jan\", \"fev\", \"mar\", \"abr\", \"mai\", \"jun\", \"jul\", \"ago\", \"set\", \"out\", \"nov\", \"dez\"}\n",
    "\n",
    "primeiroSemestre := meses[:6]\n",
    "fmt.Println(\"O primeiro semestre é: \", primeiroSemestre)\n",
    "\n",
    "segundoSemestre := meses[6:]\n",
    "fmt.Println(\"O segundo semestre é: \", segundoSemestre)\n",
    "\n",
    "ano := meses[:]\n",
    "fmt.Println(\"O ano tem os meses: \", ano)"
   ]
  },
  {
   "cell_type": "markdown",
   "id": "e61ca753-5e3f-4403-84f0-daebe28b37f1",
   "metadata": {},
   "source": [
    "Outra maneira de declarar slices é utilizando a função make. Slices declarados dessa maneira, serão preenchidos com valores-zero de seus determinados tipos, se o tamanho for maior que zero."
   ]
  },
  {
   "cell_type": "code",
   "execution_count": 4,
   "id": "e0a4b568-2dfa-4206-95ec-0319c3fb1737",
   "metadata": {},
   "outputs": [
    {
     "name": "stdout",
     "output_type": "stream",
     "text": [
      "Os elementos do array são:  [0 0 0 0 0]\n",
      "O slice possui tamanho:  5  e capacidade:  5\n"
     ]
    }
   ],
   "source": [
    "%%\n",
    "sliceMake1 := make([]int, 5)\n",
    "fmt.Println(\"Os elementos do array são: \", sliceMake1)\n",
    "fmt.Println(\"O slice possui tamanho: \", len(sliceMake1), \" e capacidade: \", cap(sliceMake1))"
   ]
  },
  {
   "cell_type": "markdown",
   "id": "5721439e-55e5-4108-9a30-2b7b9785f550",
   "metadata": {},
   "source": [
    "Podemos definir uma capacidade (inicial), porém um tamanho menor.\n",
    "Neste exemplo como o tamanho é zero, não teremos elementos.\n",
    "A capacidade é 5, portanto poderemos adicionar 5 elementos antes do slice precisar ser redimensionado.\n",
    "\n",
    "Nota: Definindo a capacidade e o tamanho 0, o espaço de memória é alocado previamente sem preencher o slice."
   ]
  },
  {
   "cell_type": "code",
   "execution_count": 5,
   "id": "47038fbb-54dc-49aa-a154-526cf56a5bcc",
   "metadata": {},
   "outputs": [
    {
     "name": "stdout",
     "output_type": "stream",
     "text": [
      "Os elementos do array são:  []\n",
      "O slice possui tamanho:  0  e capacidade:  5\n"
     ]
    }
   ],
   "source": [
    "%%\n",
    "sliceMake2 := make([]int, 0, 5)\n",
    "fmt.Println(\"Os elementos do array são: \", sliceMake2)\n",
    "fmt.Println(\"O slice possui tamanho: \", len(sliceMake2), \" e capacidade: \", cap(sliceMake2))"
   ]
  },
  {
   "cell_type": "markdown",
   "id": "1708715e-315a-454c-8286-402597e01aeb",
   "metadata": {},
   "source": [
    "Neste exemplo, mesmo que o slice tenha capacidade para 5 elementos, estamos alocando somente 3. Ou seja adicionamos 3 vezes o valor zero do tipo."
   ]
  },
  {
   "cell_type": "code",
   "execution_count": 6,
   "id": "06489900-a04a-4c11-8a23-ac9374e40c42",
   "metadata": {},
   "outputs": [
    {
     "name": "stdout",
     "output_type": "stream",
     "text": [
      "Os elementos do array são:  [0 0 0]\n",
      "O slice possui tamanho:  3  e capacidade:  5\n"
     ]
    }
   ],
   "source": [
    "%%\n",
    "sliceMake3 := make([]int, 3, 5) // slice de tamnho 3, mas 5 de capacidade\n",
    "fmt.Println(\"Os elementos do array são: \", sliceMake3)\n",
    "fmt.Println(\"O slice possui tamanho: \", len(sliceMake3), \" e capacidade: \", cap(sliceMake3))"
   ]
  },
  {
   "cell_type": "markdown",
   "id": "a95981b9-abfb-4cfe-a848-5c2dfdb98d77",
   "metadata": {},
   "source": [
    "O valor zero de um slice é nil."
   ]
  },
  {
   "cell_type": "code",
   "execution_count": 7,
   "id": "cd27ce7d-78ea-4a48-b7cb-8e6b137357c3",
   "metadata": {},
   "outputs": [
    {
     "name": "stdout",
     "output_type": "stream",
     "text": [
      "O valor zero de um slice é nil?:  true\n"
     ]
    }
   ],
   "source": [
    "%%\n",
    "var sliceZero []int\n",
    "fmt.Println(\"O valor zero de um slice é nil?: \", sliceZero == nil)"
   ]
  },
  {
   "cell_type": "markdown",
   "id": "d9dd5cef-4edf-429b-81fa-90cbc2ce4c48",
   "metadata": {},
   "source": [
    "Assim como array, podemos ter slices de slices."
   ]
  },
  {
   "cell_type": "code",
   "execution_count": 8,
   "id": "c6ce353b-8a7b-428b-b18d-c174c829fc7e",
   "metadata": {},
   "outputs": [
    {
     "name": "stdout",
     "output_type": "stream",
     "text": [
      "x   o\n",
      "o x  \n",
      "x   o\n"
     ]
    }
   ],
   "source": [
    "var jogoDaVelha = [][]string{\n",
    "\t{\"x\", \" \", \"o\"},\n",
    "\t{\"o\", \"x\", \" \"},\n",
    "\t{\"x\", \" \", \"o\"},\n",
    "}\n",
    "%%\n",
    "// strings.join foram utilizados apenas para uma apresentação mais amigável.\n",
    "fmt.Println(strings.Join([]string{\n",
    "strings.Join(jogoDaVelha[0], \" \"),\n",
    "strings.Join(jogoDaVelha[1], \" \"),\n",
    "strings.Join(jogoDaVelha[2], \" \")}, \"\\n\"))"
   ]
  },
  {
   "cell_type": "markdown",
   "id": "1d696e8e-8d53-489a-a267-7ff260e78761",
   "metadata": {},
   "source": [
    "Para acessar o valor de um slice, utilizamos um índice numérico que representa sua posição e inicia-se em zero.\n",
    "Por exemplo, dado um slice de vogais, temos:\n",
    "```\n",
    "[\"a\", \"e\", \"i\", \"o\", \"u\"]\n",
    "  0    1    2    3    4\n",
    "```\n",
    "Ao acessarmos a posição 2 do slice temos a letra \"i\". Ao acessar a posição 0, temos a letra \"a\".\n",
    "Lembre-se que indíces iniciam em 0.\n",
    "\n",
    "Em slices de múltiplas dimensões, também acessamos suas posições através dos índices."
   ]
  },
  {
   "cell_type": "code",
   "execution_count": 9,
   "id": "00cd55d8-954b-4d7f-aeb4-8699b8e29af8",
   "metadata": {},
   "outputs": [
    {
     "name": "stdout",
     "output_type": "stream",
     "text": [
      "A posição 2 do slice é:  i\n",
      "A posição 0 do slice é:  a\n",
      "Acessando o segundo elemento, da segunda linha:  x\n"
     ]
    }
   ],
   "source": [
    "var vogais = []string{\"a\", \"e\", \"i\", \"o\", \"u\"}\n",
    "%%\n",
    "fmt.Println(\"A posição 2 do slice é: \", vogais[2])\n",
    "fmt.Println(\"A posição 0 do slice é: \", vogais[0])\n",
    "fmt.Println(\"Acessando o segundo elemento, da segunda linha: \", jogoDaVelha[1][1])"
   ]
  },
  {
   "cell_type": "markdown",
   "id": "eac75aa2-89e6-4340-a1b2-d711700eefe1",
   "metadata": {},
   "source": [
    "Para modificarmos um valor de um array, basta atribuir um valor a um índice.\n",
    "\n",
    "O mesmo se aplica quando temos mais de uma dimensão."
   ]
  },
  {
   "cell_type": "code",
   "execution_count": 10,
   "id": "783255e5-62dd-440a-8cf7-4758f46b49c8",
   "metadata": {},
   "outputs": [
    {
     "name": "stdout",
     "output_type": "stream",
     "text": [
      "Vogais:  [a e i j u]\n",
      "jogo antes:\n",
      "x   o\n",
      "o x  \n",
      "x   o\n",
      "jogo depois:\n",
      "x   o\n",
      "o x o\n",
      "x   o\n"
     ]
    }
   ],
   "source": [
    "%%\n",
    "vogais[3] = \"j\"\n",
    "fmt.Println(\"Vogais: \", vogais)\n",
    "vogais[3] = \"o\" // corrigindo de volta as vogais, antes que alguém reclame.\n",
    "\n",
    "fmt.Println(\"jogo antes:\")\n",
    "fmt.Println(strings.Join([]string{\n",
    "    strings.Join(jogoDaVelha[0], \" \"),\n",
    "    strings.Join(jogoDaVelha[1], \" \"),\n",
    "    strings.Join(jogoDaVelha[2], \" \")}, \"\\n\"))\n",
    "\n",
    "jogoDaVelha[1][2] = \"o\"\n",
    "\n",
    "fmt.Println(\"jogo depois:\")\n",
    "fmt.Println(strings.Join([]string{\n",
    "    strings.Join(jogoDaVelha[0], \" \"),\n",
    "    strings.Join(jogoDaVelha[1], \" \"),\n",
    "    strings.Join(jogoDaVelha[2], \" \")}, \"\\n\"))"
   ]
  },
  {
   "cell_type": "markdown",
   "id": "910c93aa-c070-4a65-91f1-5fd75205b5fa",
   "metadata": {},
   "source": [
    "Slides criados à partir de outros compartilham os mesmos valores como exemplo, ano := meses.\n",
    "\n",
    "Se eu modificar o valor presente em ano, a fatia meses também será modificada."
   ]
  },
  {
   "cell_type": "code",
   "execution_count": 11,
   "id": "1fb7d379-bbe6-4f6b-bc35-6ff9e1149e43",
   "metadata": {},
   "outputs": [
    {
     "name": "stdout",
     "output_type": "stream",
     "text": [
      "ano antes: [jan fev mar abr mai jun jul ago set out nov dez]\n",
      "meses antes: [jan fev mar abr mai jun jul ago set out nov dez]\n",
      "ano depois: [janeiro fev mar abr mai jun jul ago set out nov dez]\n",
      "meses depois: [janeiro fev mar abr mai jun jul ago set out nov dez]\n"
     ]
    }
   ],
   "source": [
    "%%\n",
    "meses := [12]string{\"jan\", \"fev\", \"mar\", \"abr\", \"mai\", \"jun\", \"jul\", \"ago\", \"set\", \"out\", \"nov\", \"dez\"}\n",
    "ano := meses[:]\n",
    "\n",
    "fmt.Println(\"ano antes:\", ano)\n",
    "fmt.Println(\"meses antes:\", meses)\n",
    "ano[0] = \"janeiro\"\n",
    "\n",
    "fmt.Println(\"ano depois:\", ano)\n",
    "fmt.Println(\"meses depois:\", meses)"
   ]
  },
  {
   "cell_type": "markdown",
   "id": "4b8a44fe-a9a0-4df9-8030-69cc275ff112",
   "metadata": {},
   "source": [
    "Outra maneira de modificar um slice é adicionando elementos a ele.\n",
    "\n",
    "O slice cresce a medida que novos elementos são inseridos se não possuírem capacidade para suportar o novo elemento.\n",
    "\n",
    "Nós podemos também adicionar vários elementos de uma vez."
   ]
  },
  {
   "cell_type": "code",
   "execution_count": 12,
   "id": "f36a23fa-7a49-446e-8f8c-41ba9460dd1e",
   "metadata": {},
   "outputs": [
    {
     "name": "stdout",
     "output_type": "stream",
     "text": [
      "Antes de inserir um elemento:   [] len=  0 cap= 0\n",
      "Depois de inserir um elemento:   [42] len=  1 cap= 1\n",
      "Depois de inserir vários elementos:   [42 1 3 5 7 9] len=  6 cap= 6\n"
     ]
    }
   ],
   "source": [
    "%%\n",
    "fmt.Println(\"Antes de inserir um elemento:  \", slice, \"len= \", len(slice), \"cap=\", cap(slice))\n",
    "slice = append(slice, 42)\n",
    "fmt.Println(\"Depois de inserir um elemento:  \", slice, \"len= \", len(slice), \"cap=\", cap(slice))\n",
    "slice = append(slice, 1, 3, 5, 7, 9)\n",
    "fmt.Println(\"Depois de inserir vários elementos:  \", slice, \"len= \", len(slice), \"cap=\", cap(slice))"
   ]
  },
  {
   "cell_type": "markdown",
   "id": "add8ba88-c7da-45c8-be2f-12ed905ead4a",
   "metadata": {},
   "source": [
    "Quando adiciono novos elementos, para ajustar ao seu novo, sua capacidade é aumentada.\n",
    "\n",
    "Tipicamente esse aumento é o dobro da capacidade atual à partir de um determinado valor. porém quando o array se torna muito grande, para evitar o excesso do aumento, essa proporção muda para 1.25 * capacidade antiga + 192.\n",
    "\n",
    "Para saber mais a respeito, leia o artigo: https://victoriametrics.com/blog/go-slice/index.html\n",
    "\n",
    "Veja também: https://go.dev/play/p/RicTn9PRXjU"
   ]
  },
  {
   "cell_type": "markdown",
   "id": "c3ba0cf6-bbb6-4b0f-9677-3c4cdd4b35dd",
   "metadata": {},
   "source": [
    "Quando percorremos um slice, dois valores são retornados.O primeiro é o índice e o segundo é a cópia do elemento no índice."
   ]
  },
  {
   "cell_type": "code",
   "execution_count": 13,
   "id": "9128c64f-07b3-4f24-89f2-5cd708aaf816",
   "metadata": {},
   "outputs": [
    {
     "name": "stdout",
     "output_type": "stream",
     "text": [
      "O valor no índice  0 é  1\n",
      "O valor no índice  1 é  2\n",
      "O valor no índice  2 é  3\n",
      "O valor no índice  3 é  4\n",
      "O valor no índice  4 é  5\n"
     ]
    }
   ],
   "source": [
    "%%\n",
    "slice := []int{1, 2, 3, 4, 5}\n",
    "for indice, valor := range slice {\n",
    "    fmt.Println(\"O valor no índice \", indice, \"é \", valor)\n",
    "}"
   ]
  },
  {
   "cell_type": "markdown",
   "id": "ebbe91e1-12e9-4bbb-b53b-c6763aa401e3",
   "metadata": {},
   "source": [
    "Uma maneira de deletar os elementos de uma lista é criando uma nova lista a partir dos elementos que restaram.\n",
    "\n",
    "Esta operação possui complexidade linear O(n)."
   ]
  },
  {
   "cell_type": "code",
   "execution_count": 14,
   "id": "9a0fe83c-3993-4b5d-91e3-a844e96795f2",
   "metadata": {},
   "outputs": [
    {
     "name": "stdout",
     "output_type": "stream",
     "text": [
      "Antes de remover um elemento:   [1 2 3 4 5] len=  5 cap= 5\n",
      "Depois de remover um elemento:   [1 2 4 5] len=  4 cap= 5\n",
      "Depois de remover um elemento:   [1 4 5] len=  3 cap= 5\n"
     ]
    }
   ],
   "source": [
    "%%\n",
    "slice := []int{1, 2, 3, 4, 5}\n",
    "fmt.Println(\"Antes de remover um elemento:  \", slice, \"len= \", len(slice), \"cap=\", cap(slice))\n",
    "indiceRemovido := 2\n",
    "slice = append(slice[:indiceRemovido], slice[indiceRemovido+1:]...)\n",
    "fmt.Println(\"Depois de remover um elemento:  \", slice, \"len= \", len(slice), \"cap=\", cap(slice))\n",
    "\n",
    "a := slices.Delete(slice, 1, 2)\n",
    "fmt.Println(\"Depois de remover um elemento:  \", a, \"len= \", len(a), \"cap=\", cap(a))"
   ]
  },
  {
   "cell_type": "markdown",
   "id": "2eda21e6-c235-49af-93bd-12639e2a44ac",
   "metadata": {},
   "source": [
    "Para remover fatias inteiras podemos utilizar a função `Delete` do pacote slices."
   ]
  },
  {
   "cell_type": "code",
   "execution_count": 15,
   "id": "89f07cf6-02f4-4841-99c9-7551d9332159",
   "metadata": {},
   "outputs": [
    {
     "name": "stdout",
     "output_type": "stream",
     "text": [
      "Antes de remover um elemento:   [1 2 3 4 5] len=  5 cap= 5\n",
      "Depois de remover um elemento:   [4 5] len=  2 cap= 5\n"
     ]
    }
   ],
   "source": [
    "%%\n",
    "slice := []int{1, 2, 3, 4, 5}\n",
    "fmt.Println(\"Antes de remover um elemento:  \", slice, \"len= \", len(slice), \"cap=\", cap(slice))\n",
    "s := slices.Delete(slice, 0, 3)\n",
    "fmt.Println(\"Depois de remover um elemento:  \", s, \"len= \", len(s), \"cap=\", cap(s))"
   ]
  },
  {
   "cell_type": "markdown",
   "id": "7006d779-22be-4d99-8ecc-fe4600769758",
   "metadata": {},
   "source": [
    "A tentativa de acessar uma posição em um slice que não exista, irá gerar um pânico.\n",
    "\n",
    "No slice este erro se dá em tempo de execução."
   ]
  },
  {
   "cell_type": "code",
   "execution_count": 16,
   "id": "c3b0ef36-e563-42ca-ada6-26b4bff4d84b",
   "metadata": {},
   "outputs": [
    {
     "name": "stdout",
     "output_type": "stream",
     "text": [
      "Slice= [] tamanho= 0\n",
      "Ocorreu um pânico: runtime error: index out of range [1] with length 0\n"
     ]
    }
   ],
   "source": [
    "%%\n",
    "fmt.Println(\"Slice=\", slice, \"tamanho=\", len(slice))\n",
    "\n",
    "defer func() {\n",
    "    // se recupera do pânico e exibe o erro ocorrido.\n",
    "    if r := recover(); r != nil {\n",
    "        fmt.Println(\"Ocorreu um pânico:\", r)\n",
    "    }\n",
    "}()\n",
    "\n",
    "// Ao acessar a posição len(slice) + 1, ocorrerá um pânico\n",
    "fmt.Println(slice[len(slice) + 1])"
   ]
  },
  {
   "cell_type": "markdown",
   "id": "969a0788-d49e-4fff-b157-50ca42646152",
   "metadata": {},
   "source": [
    "Nas versões mais atuais por causa da introdução de generics e outras coisas, a biblioteca slices tem ganhado mais funções como por exemplo a `Max` e sua versão similar `MaxFunc` que permite definir como será feita a comparação dos elementos."
   ]
  },
  {
   "cell_type": "code",
   "execution_count": 17,
   "id": "d07435e6-1a49-42d8-a54a-26ba3e168404",
   "metadata": {},
   "outputs": [
    {
     "name": "stdout",
     "output_type": "stream",
     "text": [
      "42\n"
     ]
    }
   ],
   "source": [
    "%%\n",
    "numbers := []int{0, 42, -10, 8}\n",
    "fmt.Println(slices.Max(numbers))"
   ]
  },
  {
   "cell_type": "code",
   "execution_count": 18,
   "id": "2238cdd8-eaf9-48a3-9ccc-e9d2d5ded284",
   "metadata": {},
   "outputs": [
    {
     "name": "stdout",
     "output_type": "stream",
     "text": [
      "Alice\n"
     ]
    }
   ],
   "source": [
    "%%\n",
    "type Person struct {\n",
    "    Name string\n",
    "    Age  int\n",
    "}\n",
    "people := []Person{\n",
    "    {\"Gopher\", 13},\n",
    "    {\"Alice\", 55},\n",
    "    {\"Vera\", 24},\n",
    "    {\"Bob\", 55},\n",
    "}\n",
    "firstOldest := slices.MaxFunc(people, func(a, b Person) int {\n",
    "    return cmp.Compare(a.Age, b.Age)\n",
    "})\n",
    "fmt.Println(firstOldest.Name)"
   ]
  },
  {
   "cell_type": "markdown",
   "id": "e6790458-aee5-44bf-9cf0-79ad4c5d0f6c",
   "metadata": {},
   "source": [
    "Algumas funções do pacote são aplicadas diretamente em um slice:"
   ]
  },
  {
   "cell_type": "code",
   "execution_count": 19,
   "id": "39238ecd-c38f-44e7-a268-ba4839e93429",
   "metadata": {},
   "outputs": [
    {
     "name": "stdout",
     "output_type": "stream",
     "text": [
      "Ao contrário: [8 -10 42 0]\n",
      "Ordenados: [-10 0 8 42]\n"
     ]
    }
   ],
   "source": [
    "%%\n",
    "numbers := []int{0, 42, -10, 8}\n",
    "slices.Reverse(numbers)\n",
    "fmt.Println(\"Ao contrário:\", numbers)\n",
    "\n",
    "slices.Sort(numbers)\n",
    "fmt.Println(\"Ordenados:\", numbers)"
   ]
  },
  {
   "cell_type": "markdown",
   "id": "97cf059d-31d8-4a59-b3c3-8f54c2e74bad",
   "metadata": {},
   "source": [
    "Outras retornam um novo slice:"
   ]
  },
  {
   "cell_type": "code",
   "execution_count": 20,
   "id": "1058ab4b-7b0f-49b2-9dd0-47db6c094481",
   "metadata": {},
   "outputs": [
    {
     "name": "stdout",
     "output_type": "stream",
     "text": [
      "[0 1 2 3 0 1 2 3]\n",
      "[0 1 2 3]\n"
     ]
    }
   ],
   "source": [
    "%%\n",
    "numbers := []int{0, 1, 2, 3}\n",
    "repeat := slices.Repeat(numbers, 2)\n",
    "fmt.Println(repeat)\n",
    "\n",
    "clone := slices.Clone(numbers)\n",
    "numbers[0] = 42\n",
    "fmt.Println(clone)"
   ]
  },
  {
   "cell_type": "markdown",
   "id": "588842ae-4aff-4bd5-be9e-7a8ea2cd02de",
   "metadata": {},
   "source": [
    "Algumas funções retornam iteradores:"
   ]
  },
  {
   "cell_type": "code",
   "execution_count": 21,
   "id": "1f837c48-bda5-4c7a-bb30-5fdb04514129",
   "metadata": {},
   "outputs": [
    {
     "name": "stdout",
     "output_type": "stream",
     "text": [
      "0\n",
      "1\n",
      "2\n",
      "3\n",
      "[0 1]\n",
      "[2 3]\n"
     ]
    }
   ],
   "source": [
    "%%\n",
    "numbers := []int{0, 1, 2, 3}\n",
    "for value := range slices.Values(numbers){\n",
    "    fmt.Println(value)\n",
    "}\n",
    "\n",
    "for c := range slices.Chunk(numbers, 2) {\n",
    "\t\tfmt.Println(c)\n",
    "}"
   ]
  },
  {
   "cell_type": "markdown",
   "id": "9b50f594-7754-47cb-9c10-4d1749fc31d7",
   "metadata": {},
   "source": [
    "E ainda, funções que recebem iteradores e retornam slides:\n",
    "\n",
    "No exemplo está sendo utilizado um iterador criado a partir de um slice, mas qualquer iterador poderia ser utilizado."
   ]
  },
  {
   "cell_type": "code",
   "execution_count": 22,
   "id": "eb14bd28-c862-45cf-92f9-9e88b2975896",
   "metadata": {},
   "outputs": [
    {
     "name": "stdout",
     "output_type": "stream",
     "text": [
      "iter é um: iter.Seq[int]\n",
      "O col é um slice com conteúdo []int{2, 0, 1, 3} e seu tipo é []int\n",
      "Chunks ordenados pelo segundo elemento: [[2 0] [1 3]]\n"
     ]
    }
   ],
   "source": [
    "%%\n",
    "numbers := []int{2, 0, 1, 3}\n",
    "iter := slices.Values(numbers)\n",
    "fmt.Printf(\"iter é um: %T\\n\", iter)\n",
    "col := slices.Collect(iter)\n",
    "fmt.Printf(\"O col é um slice com conteúdo %#v e seu tipo é %T\\n\", col, col)\n",
    "\n",
    "chunks := slices.Chunk(numbers, 2)\n",
    "ord:=  slices.SortedFunc(chunks, func(a, b []int) int {\n",
    "        // compara o segundo elemento \n",
    "\t\tif n := cmp.Compare(a[1], b[1]); n != 0 {\n",
    "\t\t\treturn n\n",
    "\t\t}\n",
    "    \t// senão compara o primeiro\n",
    "\t\treturn cmp.Compare(a[0], b[0])\n",
    "})\n",
    "fmt.Println(\"Chunks ordenados pelo segundo elemento:\", ord)"
   ]
  },
  {
   "cell_type": "markdown",
   "id": "52a55f77-5793-4dd2-9475-9964bfd40c08",
   "metadata": {},
   "source": [
    "E para finalizar algumas funções legais:"
   ]
  },
  {
   "cell_type": "code",
   "execution_count": 23,
   "id": "513a4b9c-6b06-4900-a292-432feaee3e8a",
   "metadata": {},
   "outputs": [
    {
     "name": "stdout",
     "output_type": "stream",
     "text": [
      "[0 1 2 3]  contém 2?  true\n",
      "[0 1 2 3]  contém 4?  false\n",
      "Vera: 2 true\n",
      "índice de 8: 2\n",
      "índice de 7: -1\n"
     ]
    }
   ],
   "source": [
    "%%\n",
    "numbers := []int{0, 1, 2, 3}\n",
    "fmt.Println(numbers, \" contém 2? \", slices.Contains(numbers, 2))\n",
    "fmt.Println(numbers, \" contém 4? \", slices.Contains(numbers, 4))\n",
    "\n",
    "names := []string{\"Alice\", \"Bob\", \"Vera\"}\n",
    "n, found := slices.BinarySearch(names, \"Vera\")\n",
    "fmt.Println(\"Vera:\", n, found)\n",
    "\n",
    "numbers = []int{0, 42, 8}\n",
    "fmt.Println(\"índice de 8:\", slices.Index(numbers, 8))\n",
    "fmt.Println(\"índice de 7:\", slices.Index(numbers, 7))"
   ]
  },
  {
   "cell_type": "markdown",
   "id": "af9123b5-095b-4ac2-97b0-927d594ddada",
   "metadata": {},
   "source": [
    "Para maiores detalhes consulte https://pkg.go.dev/slices "
   ]
  }
 ],
 "metadata": {
  "kernelspec": {
   "display_name": "Go (gonb)",
   "language": "go",
   "name": "gonb"
  },
  "language_info": {
   "codemirror_mode": "",
   "file_extension": ".go",
   "mimetype": "",
   "name": "go",
   "nbconvert_exporter": "",
   "pygments_lexer": "",
   "version": "go1.23.0"
  }
 },
 "nbformat": 4,
 "nbformat_minor": 5
}
